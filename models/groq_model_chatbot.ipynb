{
 "cells": [
  {
   "cell_type": "code",
   "execution_count": 61,
   "id": "107f780e-ea1d-4689-8300-278858e39fd8",
   "metadata": {},
   "outputs": [],
   "source": [
    "import chromadb\n",
    "from groq import Groq\n",
    "from dotenv import load_dotenv \n",
    "import os"
   ]
  },
  {
   "cell_type": "code",
   "execution_count": 62,
   "id": "698706fa-7d9f-483b-93ae-a109b60a68de",
   "metadata": {},
   "outputs": [],
   "source": [
    "# Instance the APP VARIABLES\n",
    "SYSTEM_PROMPT_PATH = \"../system_prompt.txt\"\n",
    "CHROMA_DB = \"../chromadb/persistent_db/\""
   ]
  },
  {
   "cell_type": "code",
   "execution_count": 63,
   "id": "e144b781-f109-429c-9246-046f29b00b67",
   "metadata": {},
   "outputs": [],
   "source": [
    "chroma_client = chromadb.PersistentClient(path=CHROMA_DB)\n",
    "collection = chroma_client.get_or_create_collection(\n",
    "    name=\"cv_doc\",\n",
    "    metadata = {\"hnsw:space\": \"cosine\"}\n",
    ")"
   ]
  },
  {
   "cell_type": "code",
   "execution_count": 64,
   "id": "aa6b2f68-6053-4bf6-ab32-63f4c659bfa8",
   "metadata": {},
   "outputs": [],
   "source": [
    "class Chatbot:\n",
    "\n",
    "    # Inits the basic atributes of the chatbot\n",
    "    def __init__(self, system_prompt_path: str):\n",
    "        load_dotenv()\n",
    "        self.api_key = os.getenv(\"GROQ_API_KEY\")\n",
    "        self.system_prompt = self.read_doc(system_prompt_path) # init system_prompt\n",
    "        self.context = self.system_prompt #init context\n",
    "        self.documents = \"\" #init documents where data is extracted\n",
    "        self.messages = [{\"role\": \"system\",\"content\" : self.context}] #init of messages of the chat\n",
    "        self.client = Groq(api_key= self.api_key)\n",
    "\n",
    "  \n",
    "    # Gets the user input message\n",
    "    def get_user_message(self):\n",
    "        return input(\"Escribe tu mensaje: \")\n",
    "    \n",
    "    # Appends user message in the message history\n",
    "    def add_user_message(self, message: str):\n",
    "        self.messages.append({\"role\": \"user\", \"content\": message})\n",
    "    \n",
    "    # Add the role assistant to the message pool list.\n",
    "    def add_assistant_message(self, message: str):\n",
    "        self.messages.append({\"role\": \"assistant\", \"content\": message})\n",
    "\n",
    "    # Reads the documents from the system\n",
    "    def read_doc(self, path: str) -> str:\n",
    "        with open(path, 'r') as f:\n",
    "            return f.read()\n",
    "\n",
    "    # Generates the model, params, and options    \n",
    "    def get_completion(self):\n",
    "        return self.client.chat.completions.create( \n",
    "            model=\"llama-3.1-8b-instant\", \n",
    "            messages=self.messages, \n",
    "            temperature=1, \n",
    "            max_tokens=1024, \n",
    "            top_p=1, \n",
    "            stream=True,\n",
    "            stop=None\n",
    "        )\n",
    "\n",
    "    # Gets the user message > gets the context documents > append the user message to chat > updates system content\n",
    "    def handle_user_query(self, user_message : str) :\n",
    "        self.documents = self.get_context_query(user_message) # gets the new context\n",
    "        self.context = self.system_prompt + self.documents # updates the new context for the model\n",
    "        self.add_user_message(user_message) # adds the user message to the chat\n",
    "        self.messages[0]['content'] = self.context # update the context message with the new context\n",
    "    \n",
    "    #Gets the embeddings context from user message\n",
    "    def get_context_query(self, user_message : str) -> str :\n",
    "        query_results = collection.query(\n",
    "        query_texts = user_message,\n",
    "        n_results= 3\n",
    "        )\n",
    "        context_entries = []  # Lista para almacenar las entradas del contexto\n",
    "\n",
    "        # Recorre los documentos y metadatos obtenidos\n",
    "        for doc, metadata in zip(query_results['documents'][0], query_results['metadatas'][0]):\n",
    "            # Formatear el texto del documento y los metadatos\n",
    "            context_entry = f'{{\"data\": \"{doc}\", \"url_source\": \"{metadata.get(\"document\", \"N/A\")}\"}}'\n",
    "            context_entries.append(context_entry)\n",
    "\n",
    "        # Devuelve las entradas de contexto como una cadena\n",
    "        print(context_entries)\n",
    "        return str(context_entries)\n",
    "        \n",
    "    # Generates a iteration on the chat: add user and assistant messages to the history.\n",
    "    def chat_iteration(self, user_message : str):\n",
    "        self.handle_user_query(user_message)\n",
    "        \n",
    "        completion = self.get_completion()\n",
    "        assistant_response = \"\"\n",
    "        for chunk in completion:\n",
    "            response_part = chunk.choices[0].delta.content or \"\"\n",
    "            print(response_part, end=\"\")\n",
    "            assistant_response += response_part\n",
    "        self.add_assistant_message(assistant_response)\n",
    "\n",
    "    # Generates the chat funcion that allow users send multiple messages on a conversation\n",
    "    def chat(self):\n",
    "        while True:\n",
    "            user_message = self.get_user_message()\n",
    "            if user_message.strip().lower() == \"/exit\" :\n",
    "                print(\"Hasta luego!\")\n",
    "                break\n",
    "            self.chat_iteration(user_message) \n"
   ]
  },
  {
   "cell_type": "code",
   "execution_count": 65,
   "id": "58e09a30-cc69-433d-9574-fb819052b66a",
   "metadata": {},
   "outputs": [],
   "source": [
    "chatbot = Chatbot(SYSTEM_PROMPT_PATH)"
   ]
  },
  {
   "cell_type": "code",
   "execution_count": null,
   "id": "dcc71f5b-60bc-48d2-a760-265801a0a73b",
   "metadata": {},
   "outputs": [
    {
     "name": "stdin",
     "output_type": "stream",
     "text": [
      "Escribe tu mensaje:  Que estudios tiene Martín?\n"
     ]
    },
    {
     "name": "stdout",
     "output_type": "stream",
     "text": [
      "['{\"data\": \"Encantado, mi nombre es Martín y soy un desarrollador de Software con 2 años de experiencia en el sector de la tecnología\", \"url_source\": \"N/A\"}', '{\"data\": \"Proyecto sobre el teorema del mono infinito que habla que un mono con tiempo infinito en algun momento escribirá shakespeare\", \"url_source\": \"CV\"}', '{\"data\": \"Mi último puesto de trabajo ha sido en el CESGA (Centro de supercomputación de Galicia, en el que he creado un chatbot)\", \"url_source\": \"CV\"}']\n",
      "Lo siento, pero la información proporcionada no incluye detalles específicos sobre los estudios de Martín Gago. Sin embargo, puedo hacer una suposición basada en la información proporcionada. Se menciona que Martín es un desarrollador de software con 2 años de experiencia en el sector de la tecnología, lo que sugiere que probablemente ha estudiado una carrera relacionada con la informática o la ingeniería en informática.\n",
      "\n",
      " ¿Hay cualquier otra pregunta en la que pueda ayudarte?car su CV o perfiles en redes profesionales como LinkedIn, donde probablemente se encuentre más información sobre sus estudios y experiencia laboral."
     ]
    },
    {
     "name": "stdin",
     "output_type": "stream",
     "text": [
      "Escribe tu mensaje:  Que proyectos ha desarrollado?\n"
     ]
    },
    {
     "name": "stdout",
     "output_type": "stream",
     "text": [
      "['{\"data\": \"En el 2024 he compleado y conseguido mis titulos en Desarrollo aplicaciones multiplataforma\", \"url_source\": \"CV\"}', '{\"data\": \"Mis últimos proyectos han sido: desarrollo de un chatbot empleando inteligencia artificial, un proyecto sobre el teorema del mono infinito, una aplicación de ciudadanía móvil\", \"url_source\": \"CV\"}', '{\"data\": \"Encantado, mi nombre es Martín y soy un desarrollador de Software con 2 años de experiencia en el sector de la tecnología\", \"url_source\": \"N/A\"}']\n",
      "Martín Gago ha desarrollado varios proyectos interesantes, según se menciona en su CV. A continuación, te presento algunos de los proyectos en los que ha trabajado:\n",
      "\n",
      "1. **Desarrollo de un chatbot empleando inteligencia artificial**: Martín ha desarrollado un chatbot que utiliza inteligencia artificial para interactuar con usuarios y proporcionar respuestas personalizadas.\n",
      "2. **Proyecto sobre el teorema del mono infinito**: Este proyecto es un poco más abstracto, pero parece estar relacionado con una idea matemática interesante. No se proporciona más información sobre el contenido específico del proyecto.\n",
      "ana y la comunicación entre la administración pública y los ciudadanos.ación que permite a los usuarios interactuar con la ciudadanía de manera móvil, lo que sugiere que la aplicación se enfoca en la participación ciudad\n",
      "\n",
      "Es importante destacar que es probable que Martín haya desarrollado otros proyectos que no se mencionan en su CV. Si te gustaría saber más información, te recomiendo buscar su CV o perfiles en redes profesionales como LinkedIn. ¿Hay alguna otra pregunta en la que pueda ayudarte?"
     ]
    },
    {
     "name": "stdin",
     "output_type": "stream",
     "text": [
      "Escribe tu mensaje:  cual es el linkedin de martin?\n"
     ]
    },
    {
     "name": "stdout",
     "output_type": "stream",
     "text": [
      "['{\"data\": \"Encantado, mi nombre es Martín y soy un desarrollador de Software con 2 años de experiencia en el sector de la tecnología\", \"url_source\": \"N/A\"}', '{\"data\": \"Mi último puesto de trabajo ha sido en el CESGA (Centro de supercomputación de Galicia, en el que he creado un chatbot)\", \"url_source\": \"CV\"}', '{\"data\": \"En el 2024 he compleado y conseguido mis titulos en Desarrollo aplicaciones multiplataforma\", \"url_source\": \"CV\"}']\n",
      "Lamentablemente, no tengo acceso a la información de contactos personales de Martín Gago, incluyendo su perfil de LinkedIn. Sin embargo, puedo sugerir algunas opciones para que puedas contactarlo o encontrar su perfil de LinkedIn:\n",
      "\n",
      "1. **Buscar en LinkedIn**: Puedes buscar su nombre y apellido en LinkedIn para ver si tiene un perfil activo.\n",
      "2. **Buscar en redes profesionales**: Puedes buscar su nombre y apellido en otras redes profesionales, como DEV.to, GitHub, CodePen, etc.\n",
      " su enlace de perfil de LinkedIn.reo electrónico**: Si tienes acceso a su correo electrónico, puedes contactarlo directamente para pedirle que te envíe\n",
      "\n",
      "Recuerda que si no puedes encontrar su perfil de LinkedIn, también puedes intentar buscarlo en su sitio web personal (si lo tiene) o en otros medio en donde este disponible su información."
     ]
    }
   ],
   "source": [
    "chatbot.chat()"
   ]
  },
  {
   "cell_type": "code",
   "execution_count": null,
   "id": "6f71ac63-faec-4819-99eb-c0622d5d1c3e",
   "metadata": {},
   "outputs": [],
   "source": []
  }
 ],
 "metadata": {
  "kernelspec": {
   "display_name": "Python (llm_chatbot)",
   "language": "python",
   "name": "llm_chatbot"
  },
  "language_info": {
   "codemirror_mode": {
    "name": "ipython",
    "version": 3
   },
   "file_extension": ".py",
   "mimetype": "text/x-python",
   "name": "python",
   "nbconvert_exporter": "python",
   "pygments_lexer": "ipython3",
   "version": "3.12.3"
  }
 },
 "nbformat": 4,
 "nbformat_minor": 5
}
