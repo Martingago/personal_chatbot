{
 "cells": [
  {
   "cell_type": "code",
   "execution_count": 1,
   "id": "107f780e-ea1d-4689-8300-278858e39fd8",
   "metadata": {},
   "outputs": [],
   "source": [
    "import chromadb\n",
    "from groq import Groq\n",
    "from dotenv import load_dotenv \n",
    "import os"
   ]
  },
  {
   "cell_type": "code",
   "execution_count": 2,
   "id": "698706fa-7d9f-483b-93ae-a109b60a68de",
   "metadata": {},
   "outputs": [],
   "source": [
    "# Instance the APP VARIABLES\n",
    "SYSTEM_PROMPT_PATH = \"../system_prompt.txt\"\n",
    "CHROMA_DB = \"../chromadb/persistent_db/\""
   ]
  },
  {
   "cell_type": "code",
   "execution_count": 3,
   "id": "e144b781-f109-429c-9246-046f29b00b67",
   "metadata": {},
   "outputs": [],
   "source": [
    "chroma_client = chromadb.PersistentClient(path=CHROMA_DB)\n",
    "collection = chroma_client.get_or_create_collection(\n",
    "    name=\"cv_doc\",\n",
    "    metadata = {\"hnsw:space\": \"cosine\"}\n",
    ")"
   ]
  },
  {
   "cell_type": "code",
   "execution_count": 4,
   "id": "aa6b2f68-6053-4bf6-ab32-63f4c659bfa8",
   "metadata": {},
   "outputs": [],
   "source": [
    "class Chatbot:\n",
    "\n",
    "    # Inits the basic atributes of the chatbot\n",
    "    def __init__(self, system_prompt_path: str):\n",
    "        load_dotenv()\n",
    "        self.api_key = os.getenv(\"GROQ_API_KEY\")\n",
    "        self.system_prompt = self.read_doc(system_prompt_path) # init system_prompt\n",
    "        self.context = self.system_prompt #init context\n",
    "        self.documents = \"\" #init documents where data is extracted\n",
    "        self.messages = [{\"role\": \"system\",\"content\" : self.context}] #init of messages of the chat\n",
    "        self.client = Groq(api_key= self.api_key)\n",
    "\n",
    "  \n",
    "    # Gets the user input message\n",
    "    def get_user_message(self):\n",
    "        return input(\"Escribe tu mensaje: \")\n",
    "    \n",
    "    # Appends user message in the message history\n",
    "    def add_user_message(self, message: str):\n",
    "        self.messages.append({\"role\": \"user\", \"content\": message})\n",
    "    /\n",
    "    # Add the role assistant to the message pool list.\n",
    "    def add_assistant_message(self, message: str):\n",
    "        self.messages.append({\"role\": \"assistant\", \"content\": message})\n",
    "\n",
    "    # Reads the documents from the system\n",
    "    def read_doc(self, path: str) -> str:\n",
    "        with open(path, 'r') as f:\n",
    "            return f.read()\n",
    "\n",
    "    # Generates the model, params, and options    \n",
    "    def get_completion(self):\n",
    "        return self.client.chat.completions.create( \n",
    "            model=\"llama-3.1-8b-instant\", \n",
    "            messages=self.messages, \n",
    "            temperature=0.4, \n",
    "            max_tokens=1024, \n",
    "            top_p=0.2, \n",
    "            stream=True,\n",
    "            stop=None\n",
    "        )\n",
    "\n",
    "    # Gets the user message > gets the context documents > append the user message to chat > updates system content\n",
    "    def handle_user_query(self, user_message : str) :\n",
    "        self.documents = self.get_context_query(user_message) # gets the new context\n",
    "        self.context = self.system_prompt + self.documents # updates the new context for the model\n",
    "        self.add_user_message(user_message) # adds the user message to the chat\n",
    "        self.messages[0]['content'] = self.context # update the context message with the new context\n",
    "    \n",
    "    #Gets the embeddings context from user message\n",
    "    def get_context_query(self, user_message : str) -> str :\n",
    "        query_results = collection.query(\n",
    "        query_texts = user_message,\n",
    "        n_results= 20\n",
    "        )\n",
    "        context_entries = []  # List to storage the context entries\n",
    "        \n",
    "        # Recorre los documentos y metadatos obtenidos\n",
    "        for doc, metadata in zip(query_results['documents'][0], query_results['metadatas'][0]):\n",
    "            # Format the text documents and gets the metadata\n",
    "            context_entry = f'{{\"data\": \"{doc}\", \"url_source\": \"{metadata.get(\"url_source\")}, \"web_source\": \"{metadata.get(\"web_source\")}\"}}'\n",
    "            context_entries.append(context_entry)\n",
    "\n",
    "        # Devuelve las entradas de contexto como una cadena\n",
    "        print(context_entries)\n",
    "        return str(context_entries)\n",
    "        \n",
    "    # Generates a iteration on the chat: add user and assistant messages to the history.\n",
    "    def chat_iteration(self, user_message : str):\n",
    "        self.handle_user_query(user_message)\n",
    "        \n",
    "        completion = self.get_completion()\n",
    "        assistant_response = \"\"\n",
    "        for chunk in completion:\n",
    "            response_part = chunk.choices[0].delta.content or \"\"\n",
    "            print(response_part, end=\"\")\n",
    "            assistant_response += response_part\n",
    "        self.add_assistant_message(assistant_response)\n",
    "\n",
    "    # Generates the chat funcion that allow users send multiple messages on a conversation\n",
    "    def chat(self):\n",
    "        while True:\n",
    "            user_message = self.get_user_message()\n",
    "            if user_message.strip().lower() == \"/exit\" :\n",
    "                print(\"Hasta luego!\")\n",
    "                break\n",
    "            self.chat_iteration(user_message) \n"
   ]
  },
  {
   "cell_type": "code",
   "execution_count": 5,
   "id": "58e09a30-cc69-433d-9574-fb819052b66a",
   "metadata": {},
   "outputs": [],
   "source": [
    "chatbot = Chatbot(SYSTEM_PROMPT_PATH)"
   ]
  },
  {
   "cell_type": "code",
   "execution_count": null,
   "id": "dcc71f5b-60bc-48d2-a760-265801a0a73b",
   "metadata": {},
   "outputs": [
    {
     "name": "stdin",
     "output_type": "stream",
     "text": [
      "Escribe tu mensaje:  Dime en que proyectos ha participado\n"
     ]
    },
    {
     "name": "stdout",
     "output_type": "stream",
     "text": [
      "['{\"data\": \"- **🔍 Partidas Normales y Personalizadas**  \\n  Puedes jugar partidas rápidas o configurar tus propias reglas y estilos de juego.\\n\\n- **🌟 Modo 2 Jugadores**  \\n  Desafía a un amigo o colega en partidas uno contra uno.\\n\\n## 🎮 Tecnologías Utilizadas\\n\\nEste proyecto fue desarrollado usando:\", \"url_source\": \"https://github.com/Martingago/connect4, \"web_source\": \"https://estrategia4.netlify.app/\"}', '{\"data\": \"![Connect4 Screenshot](https://github.com/Martingago/connect4/blob/main/img/global/connect4.png)\\n\\n## 🚀 Características Principales\\n\\n- **🎨 Personalización de Avatares**  \\n  Dale un toque único a tu perfil seleccionando avatares personalizados para cada jugador.\", \"url_source\": \"https://github.com/Martingago/connect4, \"web_source\": \"https://estrategia4.netlify.app/\"}', '{\"data\": \"- **Carga de productos**: Los productos se cargan dinámicamente desde una base de datos en Firebase.\\n- **Autenticación de usuarios**: Permite a los usuarios registrarse mediante autenticación con Google.\\n- **Gestión de carritos**: Cada usuario puede gestionar su propio carrito de compras.\", \"url_source\": \"https://github.com/Martingago/nuxt3-proyect, \"web_source\": \"https://bravus.vercel.app/\"}', '{\"data\": \"## 🏠 Funcionalidades\\n\\n- Añadir y visualizar árboles \"senlleiras\".\\n- Acceso a información detallada de cada árbol.\\n- Diseño optimizado para dispositivos móviles.\\n\\n## 🌐 Disponible en Google Play\\n\\nPuedes descargar la aplicación en la [Google Play Store](https://play.google.com/store/apps/details?id=com.xurxo.senlleirasapp&hl=en_US&pli=1).\", \"url_source\": \"https://play.google.com/store/apps/details?id=com.xurxo.senlleirasapp&hl=en_US&pli=1, \"web_source\": \"https://senllapp.com/\"}', '{\"data\": \"## 🔧 Funcionalidades\\n\\n- **Generación de contraseñas personalizadas**: \\n  - Define la longitud de la contraseña a generar.\\n  - Selecciona los tipos de caracteres: \\n    - Letras (mayúsculas y minúsculas).\\n    - Números.\\n    - Caracteres especiales.\\n- **Indicador de seguridad**: Muestra el nivel de seguridad de la contraseña generada.\", \"url_source\": \"https://github.com/Martingago/generadorContrase-as, \"web_source\": \"https://needapassword.netlify.app/\"}', '{\"data\": \"- **Registro de compras**: Historial de compras registrado para cada usuario.\\n- **Área administrativa**: Funcionalidad para añadir, eliminar o modificar productos y categorías.\\n- **Google Analytics**: Integración para el seguimiento del comportamiento de los usuarios.\", \"url_source\": \"https://github.com/Martingago/nuxt3-proyect, \"web_source\": \"https://bravus.vercel.app/\"}', '{\"data\": \"## 🌐 Demo\\nPuedes acceder a una DEMO  para ver y probar todas las funcionalidades de este proyecto visitando el siguiente enlace: [https://needapassword.netlify.app/](https://needapassword.netlify.app/)\\n\\n## 📜 Licencia\\n\\nEste proyecto está bajo la licencia **MIT**.\\n\\n## 🙌 Agradecimientos\", \"url_source\": \"https://github.com/Martingago/generadorContrase-as, \"web_source\": \"https://needapassword.netlify.app/\"}', '{\"data\": \"## 🔧 Mi Contribución\\n\\nEn este proyecto, mi aportación incluyó:\\n\\n- Diseño e implementación de la interfaz visual de la aplicación.\\n- Creación e integración de componentes reutilizables.\\n- Propuestas de ideas para nuevas funcionalidades y mejoras.\\n\\n---\\n\\n**Autor**: [Martingago](https://github.com/Martingago)\", \"url_source\": \"https://play.google.com/store/apps/details?id=com.xurxo.senlleirasapp&hl=en_US&pli=1, \"web_source\": \"https://senllapp.com/\"}', '{\"data\": \"## 🙌 Agradecimientos\\n\\nGracias por explorar este proyecto. ¡Espero que te sea útil y que disfrutes generando contraseñas seguras!\\n\\n---\\n\\n**Autor**: [Martingago](https://www.linkedin.com/in/martin-gago-choren/)\\n\\n© 2023 Generador de Contraseñas. Todos los derechos reservados.\", \"url_source\": \"https://github.com/Martingago/generadorContrase-as, \"web_source\": \"https://needapassword.netlify.app/\"}', '{\"data\": \"## 🙌 Agradecimientos\\n\\nGracias por tomarte el tiempo de explorar **Connect4**. ¡Espero que disfrutes jugando tanto como yo disfruté creándolo!\\n\\n---\\n\\n**Autor**: [Martingago](https://www.linkedin.com/in/martin-gago-choren/)\\n\\n© 2023 Connect4. Todos los derechos reservados.\", \"url_source\": \"https://github.com/Martingago/connect4, \"web_source\": \"https://estrategia4.netlify.app/\"}', '{\"data\": \"---\\n\\n**Autor**: [Martingago](https://www.linkedin.com/in/martin-gago-choren/)\\n\\n© 2023 BRAVUS. Todos los derechos reservados.\", \"url_source\": \"https://github.com/Martingago/nuxt3-proyect, \"web_source\": \"https://bravus.vercel.app/\"}', '{\"data\": \"## 🚀 Prueba la Demo en Línea\\n\\n¡No necesitas instalar nada! Puedes probar la versión en vivo aquí:\\n\\n[**Demo en Línea**](https://estrategia4.netlify.app/)\\n\\n## 🤝 Contribuciones\\n\\nSi deseas contribuir o mejorar el proyecto, no dudes en enviar un *pull request* o abrir un *issue*. ¡Toda ayuda es bienvenida!\", \"url_source\": \"https://github.com/Martingago/connect4, \"web_source\": \"https://estrategia4.netlify.app/\"}', '{\"data\": \"# Connect4 - Versión Online del Clásico Juego Conecta 4\\n\\n**Connect4** es una versión interactiva y personalizable del clásico juego **Conecta 4**, desarrollada con HTML, CSS, JavaScript y **Bootstrap**. El juego está diseñado para ser fácil de usar, divertido y visualmente atractivo, permitiendo partidas entre dos jugadores.\", \"url_source\": \"https://github.com/Martingago/connect4, \"web_source\": \"https://estrategia4.netlify.app/\"}', '{\"data\": \"# Generador de Contraseñas\\n\\n**Generador de Contraseñas** es un mini proyecto creado para generar contraseñas pseudoaleatorias según criterios personalizables. Este proyecto fue desarrollado utilizando exclusivamente **JavaScript**, **HTML** y **CSS**.\", \"url_source\": \"https://github.com/Martingago/generadorContrase-as, \"web_source\": \"https://needapassword.netlify.app/\"}', '{\"data\": \"# BRAVUS - Demo Tienda Online\\n\\n**BRAVUS** es un proyecto de tienda online desarrollado utilizando **NUXT3** como framework principal y **Firebase** como backend para el almacenamiento de datos de usuarios y productos. Además, el diseño visual fue realizado con la ayuda de **Bootstrap**.\\n\\n## 🌟 Funcionalidades Principales\", \"url_source\": \"https://github.com/Martingago/nuxt3-proyect, \"web_source\": \"https://bravus.vercel.app/\"}', '{\"data\": \"- **HTML5** - Estructura del juego.\\n- **CSS3** - Estilizado y diseño responsive.\\n- **JavaScript (Vanilla JS)** - Lógica del juego y funcionalidades interactivas.\\n- **Bootstrap 5** - Diseño moderno y responsive.\\n\\n## 📂 Estructura del Proyecto\", \"url_source\": \"https://github.com/Martingago/connect4, \"web_source\": \"https://estrategia4.netlify.app/\"}', '{\"data\": \"## 🌱 Proyecto\\n\\nEste proyecto fue desarrollado por el **Obradoiro Sustentable III** en el año 2022.\\n\\n## 🔧 Tecnologías Utilizadas\\n\\n- **Vue 3**: Framework principal para el desarrollo de la aplicación.\\n- **Firebase**: Base de datos utilizada para almacenar información de publicaciones y usuarios.\\n\\n## 🏠 Funcionalidades\", \"url_source\": \"https://play.google.com/store/apps/details?id=com.xurxo.senlleirasapp&hl=en_US&pli=1, \"web_source\": \"https://senllapp.com/\"}', '{\"data\": \"# Senllap - Aplicación de Uso Ciudadano\\n\\n**Senllap** es una aplicación móvil desarrollada para el Ayuntamiento de Santiago de Compostela que permite a los usuarios añadir y visualizar árboles \"senlleiras\" localizados en el área metropolitana de Santiago de Compostela y sus alrededores.\\n\\n## 🌱 Proyecto\", \"url_source\": \"https://play.google.com/store/apps/details?id=com.xurxo.senlleirasapp&hl=en_US&pli=1, \"web_source\": \"https://senllapp.com/\"}', '{\"data\": \"© 2022 Senllap. Todos los derechos reservados.\", \"url_source\": \"https://play.google.com/store/apps/details?id=com.xurxo.senlleirasapp&hl=en_US&pli=1, \"web_source\": \"https://senllapp.com/\"}', '{\"data\": \"## 📂 Estructura del Proyecto\\n\\n```plaintext\\nconnect4/\\n├── index.html       # Archivo principal del juego\\n├── style/\\n│   └── styles.css   # Estilos personalizados\\n├── script/\\n│   └── game.js      # Lógica principal del juego\\n└── img/\\n    └── avatar/     # Imágenes de avatares\\n```\\n\\n## 🖥️ Instalación y Ejecución Local\", \"url_source\": \"https://github.com/Martingago/connect4, \"web_source\": \"https://estrategia4.netlify.app/\"}']\n",
      "Martín Gago ha participado en varios proyectos, algunos de los cuales se mencionan a continuación:\n",
      "\n",
      "1. **Connect4**: Es una versión interactiva y personalizable del clásico juego Conecta 4, desarrollada con HTML, CSS, JavaScript y Bootstrap. (Fuente: https://github.com/Martingago/connect4, https://estrategia4.netlify.app/)\n",
      " https://github.com/Martingago/generadorContrase-as, https://needapassword.netlify.app/)udoaleatorias según criterios personalizables. Este proyecto fue desarrollado utilizando exclusivamente JavaScript, HTML y CSS. (Fuente:\n",
      "3. **BRAVUS - Demo Tienda Online**: Es un proyecto de tienda online desarrollado utilizando NUXt3 como framework principal y Firebase como backend para el almacenamiento de datos de usuarios y productos. Además, el diseño visual fue realizado con la ayuda de Bootstrap. (Fuente: https://github.com/Martingago/nuxt3-proyect, https://bravus.vercel.app/)\n",
      "4. **Senllap - Aplicación de Uso Ciudadano**: Es una aplicación móvil desarrollada para el Ayuntamiento de Santiago de Compostela que permite a los usuarios añadir y visualizar árboles \"senlleiras\" localizados en el área metropolitana de Santiago de Compostela y sus alrededores. (Fuente: https://play.google.com/store/apps/details?id=com.xurxo.senlleirasapp&hl=en_US&pli=1, https://senllapp.com/)\n",
      "\n",
      " información proporcionada se basa en los datos disponibles en las fuentes mencionadas y puede no ser exhaustiva o actualizada."
     ]
    }
   ],
   "source": [
    "chatbot.chat()"
   ]
  },
  {
   "cell_type": "code",
   "execution_count": null,
   "id": "74a700db-ebfa-47ba-b384-8a5c88881627",
   "metadata": {},
   "outputs": [],
   "source": []
  }
 ],
 "metadata": {
  "kernelspec": {
   "display_name": "Python 3 (ipykernel)",
   "language": "python",
   "name": "python3"
  },
  "language_info": {
   "codemirror_mode": {
    "name": "ipython",
    "version": 3
   },
   "file_extension": ".py",
   "mimetype": "text/x-python",
   "name": "python",
   "nbconvert_exporter": "python",
   "pygments_lexer": "ipython3",
   "version": "3.12.3"
  }
 },
 "nbformat": 4,
 "nbformat_minor": 5
}
