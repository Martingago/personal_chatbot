{
 "cells": [
  {
   "cell_type": "code",
   "execution_count": 1,
   "id": "107f780e-ea1d-4689-8300-278858e39fd8",
   "metadata": {},
   "outputs": [],
   "source": [
    "import chromadb\n",
    "from groq import Groq\n",
    "from dotenv import load_dotenv \n",
    "import os"
   ]
  },
  {
   "cell_type": "code",
   "execution_count": 2,
   "id": "698706fa-7d9f-483b-93ae-a109b60a68de",
   "metadata": {},
   "outputs": [],
   "source": [
    "# Instance the APP VARIABLES\n",
    "SYSTEM_PROMPT_PATH = \"../system_prompt.txt\"\n",
    "CHROMA_DB = \"../chromadb/persistent_db/\""
   ]
  },
  {
   "cell_type": "code",
   "execution_count": 3,
   "id": "e144b781-f109-429c-9246-046f29b00b67",
   "metadata": {},
   "outputs": [],
   "source": [
    "chroma_client = chromadb.PersistentClient(path=CHROMA_DB)\n",
    "collection = chroma_client.get_or_create_collection(\n",
    "    name=\"cv_doc\",\n",
    "    metadata = {\"hnsw:space\": \"cosine\"}\n",
    ")"
   ]
  },
  {
   "cell_type": "code",
   "execution_count": 12,
   "id": "aa6b2f68-6053-4bf6-ab32-63f4c659bfa8",
   "metadata": {},
   "outputs": [],
   "source": [
    "class Chatbot:\n",
    "\n",
    "    # Inits the basic atributes of the chatbot\n",
    "    def __init__(self, system_prompt_path: str):\n",
    "        load_dotenv()\n",
    "        self.api_key = os.getenv(\"GROQ_API_KEY\")\n",
    "        self.system_prompt = self.read_doc(system_prompt_path) # init system_prompt\n",
    "        self.context = self.system_prompt #init context\n",
    "        self.documents = \"\" #init documents where data is extracted\n",
    "        self.messages = [{\"role\": \"system\",\"content\" : self.context}] #init of messages of the chat\n",
    "        self.client = Groq(api_key= self.api_key)\n",
    "\n",
    "  \n",
    "    # Gets the user input message\n",
    "    def get_user_message(self):\n",
    "        return input(\"Escribe tu mensaje: \")\n",
    "    \n",
    "    # Appends user message in the message history\n",
    "    def add_user_message(self, message: str):\n",
    "        self.messages.append({\"role\": \"user\", \"content\": message})\n",
    "    \n",
    "    # Add the role assistant to the message pool list.\n",
    "    def add_assistant_message(self, message: str):\n",
    "        self.messages.append({\"role\": \"assistant\", \"content\": message})\n",
    "\n",
    "    # Reads the documents from the system\n",
    "    def read_doc(self, path: str) -> str:\n",
    "        with open(path, 'r') as f:\n",
    "            return f.read()\n",
    "\n",
    "    # Generates the model, params, and options    \n",
    "    def get_completion(self):\n",
    "        return self.client.chat.completions.create( \n",
    "            model=\"llama-3.1-8b-instant\", \n",
    "            messages=self.messages, \n",
    "            temperature=0.4, \n",
    "            max_tokens=1024, \n",
    "            top_p=0.2, \n",
    "            stream=True,\n",
    "            stop=None\n",
    "        )\n",
    "\n",
    "    # Gets the user message > gets the context documents > append the user message to chat > updates system content\n",
    "    def handle_user_query(self, user_message : str) :\n",
    "        self.documents = self.get_context_query(user_message) # gets the new context\n",
    "        self.context = self.system_prompt + self.documents # updates the new context for the model\n",
    "        self.add_user_message(user_message) # adds the user message to the chat\n",
    "        self.messages[0]['content'] = self.context # update the context message with the new context\n",
    "    \n",
    "    #Gets the embeddings context from user message\n",
    "    def get_context_query(self, user_message : str) -> str :\n",
    "        query_results = collection.query(\n",
    "        query_texts = user_message,\n",
    "        n_results= 12\n",
    "        )\n",
    "        context_entries = []  # List to storage the context entries\n",
    "\n",
    "        # Recorre los documentos y metadatos obtenidos\n",
    "        for doc, metadata in zip(query_results['documents'][0], query_results['metadatas'][0]):\n",
    "            # Format the text documents and gets the metadata\n",
    "            context_entry = f'{{\"data\": \"{doc}\", \"url_source\": \"{metadata.get(\"url_source\")}, \"web_source\": \"{metadata.get(\"web_source\")}\"}}'\n",
    "            context_entries.append(context_entry)\n",
    "\n",
    "        # Devuelve las entradas de contexto como una cadena\n",
    "        return str(context_entries)\n",
    "        \n",
    "    # Generates a iteration on the chat: add user and assistant messages to the history.\n",
    "    def chat_iteration(self, user_message : str):\n",
    "        self.handle_user_query(user_message)\n",
    "        \n",
    "        completion = self.get_completion()\n",
    "        assistant_response = \"\"\n",
    "        for chunk in completion:\n",
    "            response_part = chunk.choices[0].delta.content or \"\"\n",
    "            print(response_part, end=\"\")\n",
    "            assistant_response += response_part\n",
    "        self.add_assistant_message(assistant_response)\n",
    "\n",
    "    # Generates the chat funcion that allow users send multiple messages on a conversation\n",
    "    def chat(self):\n",
    "        while True:\n",
    "            user_message = self.get_user_message()\n",
    "            if user_message.strip().lower() == \"/exit\" :\n",
    "                print(\"Hasta luego!\")\n",
    "                break\n",
    "            self.chat_iteration(user_message) \n"
   ]
  },
  {
   "cell_type": "code",
   "execution_count": 13,
   "id": "58e09a30-cc69-433d-9574-fb819052b66a",
   "metadata": {},
   "outputs": [],
   "source": [
    "chatbot = Chatbot(SYSTEM_PROMPT_PATH)"
   ]
  },
  {
   "cell_type": "code",
   "execution_count": 14,
   "id": "dcc71f5b-60bc-48d2-a760-265801a0a73b",
   "metadata": {},
   "outputs": [
    {
     "name": "stdin",
     "output_type": "stream",
     "text": [
      "Escribe tu mensaje:  connect 4\n"
     ]
    },
    {
     "name": "stdout",
     "output_type": "stream",
     "text": [
      "['{\"data\": \"Sigue estos pasos para ejecutar **Connect4** en tu entorno local:\\n\\n1. Clona el repositorio:\\n   ```bash\\n   git clone https://github.com/Martingago/connect4.git\\n   ```\\n\\n2. Abre el archivo `index.html` en tu navegador.\", \"url_source\": \"https://github.com/Martingago/connect4, \"web_source\": \"https://estrategia4.netlify.app/\"}', '{\"data\": \"# Connect4 - Versión Online del Clásico Juego Conecta 4\", \"url_source\": \"https://github.com/Martingago/connect4, \"web_source\": \"https://estrategia4.netlify.app/\"}', '{\"data\": \"## 🙌 Agradecimientos\\n\\nGracias por tomarte el tiempo de explorar **Connect4**. ¡Espero que disfrutes jugando tanto como yo disfruté creándolo!\\n\\n---\\n\\n**Autor**: [Martingago](https://www.linkedin.com/in/martin-gago-choren/)\\n\\n© 2024 Connect4. Todos los derechos reservados.\", \"url_source\": \"https://github.com/Martingago/connect4, \"web_source\": \"https://estrategia4.netlify.app/\"}', '{\"data\": \"**Connect4** es una versión interactiva y personalizable del clásico juego **Conecta 4**, desarrollada con HTML, CSS, JavaScript y **Bootstrap**. El juego está diseñado para ser fácil de usar, divertido y visualmente atractivo, permitiendo partidas entre dos jugadores.\", \"url_source\": \"https://github.com/Martingago/connect4, \"web_source\": \"https://estrategia4.netlify.app/\"}', '{\"data\": \"![Connect4 Screenshot](https://github.com/Martingago/connect4/blob/main/img/global/connect4.png)\\n\\n## 🚀 Características Principales\\n\\n- **🎨 Personalización de Avatares**  \\n  Dale un toque único a tu perfil seleccionando avatares personalizados para cada jugador.\", \"url_source\": \"https://github.com/Martingago/connect4, \"web_source\": \"https://estrategia4.netlify.app/\"}', '{\"data\": \"```plaintext\\nconnect4/\\n├── index.html       # Archivo principal del juego\\n├── style/\\n│   └── styles.css   # Estilos personalizados\\n├── script/\\n│   └── game.js      # Lógica principal del juego\\n└── img/\\n    └── avatar/     # Imágenes de avatares\\n```\\n\\n## 🖥️ Instalación y Ejecución Local\", \"url_source\": \"https://github.com/Martingago/connect4, \"web_source\": \"https://estrategia4.netlify.app/\"}', '{\"data\": \"No se requiere configuración adicional. ¡El juego funciona directamente en el navegador!\\n\\n## 🚀 Prueba la Demo en Línea\\n\\n¡No necesitas instalar nada! Puedes probar la versión en vivo aquí:\\n\\n[**Demo en Línea**](https://estrategia4.netlify.app/)\\n\\n## 🤝 Contribuciones\", \"url_source\": \"https://github.com/Martingago/connect4, \"web_source\": \"https://estrategia4.netlify.app/\"}', '{\"data\": \"En el 2024 he compleado y conseguido mis titulos en Desarrollo aplicaciones multiplataforma\", \"url_source\": \"None, \"web_source\": \"None\"}', '{\"data\": \"Mi último puesto de trabajo ha sido en el CESGA (Centro de supercomputación de Galicia, en el que he creado un chatbot)\", \"url_source\": \"None, \"web_source\": \"None\"}', '{\"data\": \"Mis últimos proyectos han sido: desarrollo de un chatbot empleando inteligencia artificial, un proyecto sobre el teorema del mono infinito, una aplicación de ciudadanía móvil\", \"url_source\": \"None, \"web_source\": \"None\"}', '{\"data\": \"- **HTML5** - Estructura del juego.\\n- **CSS3** - Estilizado y diseño responsive.\\n- **JavaScript (Vanilla JS)** - Lógica del juego y funcionalidades interactivas.\\n- **Bootstrap 5** - Diseño moderno y responsive.\\n\\n## 📂 Estructura del Proyecto\", \"url_source\": \"https://github.com/Martingago/connect4, \"web_source\": \"https://estrategia4.netlify.app/\"}', '{\"data\": \"Tengo estudios de desarrollador de aplicaciones multiplataforma, desarrollo y diseño web, gestión de ventas y marketing\", \"url_source\": \"None, \"web_source\": \"None\"}']\n"
     ]
    },
    {
     "name": "stdin",
     "output_type": "stream",
     "text": [
      "Escribe tu mensaje:  conecta 4\n"
     ]
    },
    {
     "name": "stdout",
     "output_type": "stream",
     "text": [
      "['{\"data\": \"# Connect4 - Versión Online del Clásico Juego Conecta 4\", \"url_source\": \"https://github.com/Martingago/connect4, \"web_source\": \"https://estrategia4.netlify.app/\"}', '{\"data\": \"**Connect4** es una versión interactiva y personalizable del clásico juego **Conecta 4**, desarrollada con HTML, CSS, JavaScript y **Bootstrap**. El juego está diseñado para ser fácil de usar, divertido y visualmente atractivo, permitiendo partidas entre dos jugadores.\", \"url_source\": \"https://github.com/Martingago/connect4, \"web_source\": \"https://estrategia4.netlify.app/\"}', '{\"data\": \"## 🙌 Agradecimientos\\n\\nGracias por tomarte el tiempo de explorar **Connect4**. ¡Espero que disfrutes jugando tanto como yo disfruté creándolo!\\n\\n---\\n\\n**Autor**: [Martingago](https://www.linkedin.com/in/martin-gago-choren/)\\n\\n© 2024 Connect4. Todos los derechos reservados.\", \"url_source\": \"https://github.com/Martingago/connect4, \"web_source\": \"https://estrategia4.netlify.app/\"}', '{\"data\": \"![Connect4 Screenshot](https://github.com/Martingago/connect4/blob/main/img/global/connect4.png)\\n\\n## 🚀 Características Principales\\n\\n- **🎨 Personalización de Avatares**  \\n  Dale un toque único a tu perfil seleccionando avatares personalizados para cada jugador.\", \"url_source\": \"https://github.com/Martingago/connect4, \"web_source\": \"https://estrategia4.netlify.app/\"}', '{\"data\": \"En el 2024 he compleado y conseguido mis titulos en Desarrollo aplicaciones multiplataforma\", \"url_source\": \"None, \"web_source\": \"None\"}', '{\"data\": \"Sigue estos pasos para ejecutar **Connect4** en tu entorno local:\\n\\n1. Clona el repositorio:\\n   ```bash\\n   git clone https://github.com/Martingago/connect4.git\\n   ```\\n\\n2. Abre el archivo `index.html` en tu navegador.\", \"url_source\": \"https://github.com/Martingago/connect4, \"web_source\": \"https://estrategia4.netlify.app/\"}', '{\"data\": \"Mi último puesto de trabajo ha sido en el CESGA (Centro de supercomputación de Galicia, en el que he creado un chatbot)\", \"url_source\": \"None, \"web_source\": \"None\"}', '{\"data\": \"Mis últimos proyectos han sido: desarrollo de un chatbot empleando inteligencia artificial, un proyecto sobre el teorema del mono infinito, una aplicación de ciudadanía móvil\", \"url_source\": \"None, \"web_source\": \"None\"}', '{\"data\": \"Encantado, mi nombre es Martín y soy un desarrollador de Software con 2 años de experiencia en el sector de la tecnología\", \"url_source\": \"None, \"web_source\": \"None\"}', '{\"data\": \"Proyecto sobre el teorema del mono infinito que habla que un mono con tiempo infinito en algun momento escribirá shakespeare\", \"url_source\": \"None, \"web_source\": \"None\"}', '{\"data\": \"No se requiere configuración adicional. ¡El juego funciona directamente en el navegador!\\n\\n## 🚀 Prueba la Demo en Línea\\n\\n¡No necesitas instalar nada! Puedes probar la versión en vivo aquí:\\n\\n[**Demo en Línea**](https://estrategia4.netlify.app/)\\n\\n## 🤝 Contribuciones\", \"url_source\": \"https://github.com/Martingago/connect4, \"web_source\": \"https://estrategia4.netlify.app/\"}', '{\"data\": \"4. Envía tus cambios al repositorio principal: `git push origin nueva-funcionalidad`.\\n5. Abre un *pull request*.\", \"url_source\": \"https://github.com/Martingago/connect4, \"web_source\": \"https://estrategia4.netlify.app/\"}']\n"
     ]
    },
    {
     "name": "stdin",
     "output_type": "stream",
     "text": [
      "Escribe tu mensaje:  /exit\n"
     ]
    },
    {
     "name": "stdout",
     "output_type": "stream",
     "text": [
      "Hasta luego!\n"
     ]
    }
   ],
   "source": [
    "chatbot.chat()"
   ]
  },
  {
   "cell_type": "code",
   "execution_count": null,
   "id": "74a700db-ebfa-47ba-b384-8a5c88881627",
   "metadata": {},
   "outputs": [],
   "source": []
  }
 ],
 "metadata": {
  "kernelspec": {
   "display_name": "Python 3 (ipykernel)",
   "language": "python",
   "name": "python3"
  },
  "language_info": {
   "codemirror_mode": {
    "name": "ipython",
    "version": 3
   },
   "file_extension": ".py",
   "mimetype": "text/x-python",
   "name": "python",
   "nbconvert_exporter": "python",
   "pygments_lexer": "ipython3",
   "version": "3.12.3"
  }
 },
 "nbformat": 4,
 "nbformat_minor": 5
}
