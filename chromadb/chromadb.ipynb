{
 "cells": [
  {
   "cell_type": "code",
   "execution_count": 1,
   "id": "6e610007-3e5d-46d2-bf60-5f43372e9665",
   "metadata": {},
   "outputs": [],
   "source": [
    "import chromadb\n",
    "from chromadb import Settings"
   ]
  },
  {
   "cell_type": "code",
   "execution_count": 16,
   "id": "41658855-f009-43e0-a714-6b1c11eea575",
   "metadata": {},
   "outputs": [],
   "source": [
    "chroma_client = chromadb.PersistentClient(\n",
    "    path=\"./persistent_db\",\n",
    "    settings= chromadb.config.Settings(allow_reset=True)\n",
    ")"
   ]
  },
  {
   "cell_type": "code",
   "execution_count": 17,
   "id": "53efa651-cb22-4846-93ce-fca3a85af4e5",
   "metadata": {},
   "outputs": [],
   "source": [
    "collection = chroma_client.get_or_create_collection(\n",
    "    name=\"cv_doc\",\n",
    "    metadata= {\"hnsw:space\" :\"cosine\"}\n",
    ")"
   ]
  },
  {
   "cell_type": "code",
   "execution_count": 6,
   "id": "de291db2-4007-48ff-8734-3749311dd35f",
   "metadata": {},
   "outputs": [
    {
     "name": "stderr",
     "output_type": "stream",
     "text": [
      "Insert of existing embedding ID: id1\n",
      "Insert of existing embedding ID: id2\n",
      "Insert of existing embedding ID: id3\n",
      "Insert of existing embedding ID: id4\n",
      "Insert of existing embedding ID: id5\n",
      "Insert of existing embedding ID: id6\n",
      "Add of existing embedding ID: id1\n",
      "Add of existing embedding ID: id2\n",
      "Add of existing embedding ID: id3\n",
      "Add of existing embedding ID: id4\n",
      "Add of existing embedding ID: id5\n",
      "Add of existing embedding ID: id6\n"
     ]
    }
   ],
   "source": [
    "collection.add(\n",
    "    documents=[\"Encantado, mi nombre es Martín y soy un desarrollador de Software con 2 años de experiencia en el sector de la tecnología\", \n",
    "               \"Proyecto sobre el teorema del mono infinito que habla que un mono con tiempo infinito en algun momento escribirá shakespeare\",\n",
    "               \"Mi último puesto de trabajo ha sido en el CESGA (Centro de supercomputación de Galicia, en el que he creado un chatbot)\",\n",
    "               \"Mis últimos proyectos han sido: desarrollo de un chatbot empleando inteligencia artificial, un proyecto sobre el teorema del mono infinito, una aplicación de ciudadanía móvil\", \n",
    "               \"Tengo estudios de desarrollador de aplicaciones multiplataforma, desarrollo y diseño web, gestión de ventas y marketing\",\n",
    "              \"En el 2024 he compleado y conseguido mis titulos en Desarrollo aplicaciones multiplataforma\"],\n",
    "    metadatas=[{\"documment\": \"CV\"}, {\"document\": \"CV\"}, {\"document\": \"CV\"}, {\"document\": \"CV\"}, {\"document\": \"CV\"}, {\"document\": \"CV\"}],\n",
    "    ids=[\"id1\", \"id2\", \"id3\",\"id4\", \"id5\", \"id6\"]\n",
    ")"
   ]
  },
  {
   "cell_type": "code",
   "execution_count": 25,
   "id": "bf5a5e58-b515-466b-b3c9-cd659ca6c478",
   "metadata": {},
   "outputs": [
    {
     "name": "stdout",
     "output_type": "stream",
     "text": [
      "Collection(name=cv_doc)\n"
     ]
    }
   ],
   "source": [
    "print(collection)"
   ]
  },
  {
   "cell_type": "code",
   "execution_count": 26,
   "id": "bb21957a-2dd0-45bc-b87f-2374f2e5f063",
   "metadata": {},
   "outputs": [],
   "source": [
    "results = collection.query(\n",
    "    query_texts=[\"Que proyectos ha desarrollado Martin?\"],\n",
    "    n_results=6,\n",
    "    include = [\"documents\"]\n",
    ")"
   ]
  },
  {
   "cell_type": "code",
   "execution_count": 27,
   "id": "85779baa-a8c0-4357-9ddd-c00202010728",
   "metadata": {},
   "outputs": [
    {
     "name": "stdout",
     "output_type": "stream",
     "text": [
      "{'ids': [['id1', 'id6', 'id3', 'id2', 'id5', 'id4']], 'embeddings': None, 'documents': [['Encantado, mi nombre es Martín y soy un desarrollador de Software con 2 años de experiencia en el sector de la tecnología', 'En el 2024 he compleado y conseguido mis titulos en Desarrollo aplicaciones multiplataforma', 'Mi último puesto de trabajo ha sido en el CESGA (Centro de supercomputación de Galicia, en el que he creado un chatbot)', 'Proyecto sobre el teorema del mono infinito que habla que un mono con tiempo infinito en algun momento escribirá shakespeare', 'Tengo estudios de desarrollador de aplicaciones multiplataforma, desarrollo y diseño web, gestión de ventas y marketing', 'Mis últimos proyectos han sido: desarrollo de un chatbot empleando inteligencia artificial, un proyecto sobre el teorema del mono infinito, una aplicación de ciudadanía móvil']], 'uris': None, 'data': None, 'metadatas': None, 'distances': None, 'included': [<IncludeEnum.documents: 'documents'>]}\n"
     ]
    }
   ],
   "source": [
    "print(results)"
   ]
  },
  {
   "cell_type": "code",
   "execution_count": null,
   "id": "1c002b83-3be9-4579-b051-4999dd9337dd",
   "metadata": {},
   "outputs": [],
   "source": []
  }
 ],
 "metadata": {
  "kernelspec": {
   "display_name": "Python 3 (ipykernel)",
   "language": "python",
   "name": "python3"
  },
  "language_info": {
   "codemirror_mode": {
    "name": "ipython",
    "version": 3
   },
   "file_extension": ".py",
   "mimetype": "text/x-python",
   "name": "python",
   "nbconvert_exporter": "python",
   "pygments_lexer": "ipython3",
   "version": "3.12.3"
  }
 },
 "nbformat": 4,
 "nbformat_minor": 5
}
