{
 "cells": [
  {
   "cell_type": "code",
   "execution_count": 39,
   "id": "6e610007-3e5d-46d2-bf60-5f43372e9665",
   "metadata": {},
   "outputs": [],
   "source": [
    "import chromadb\n",
    "import re\n",
    "import os\n",
    "import uuid\n",
    "import hashlib\n",
    "from datetime import datetime\n",
    "from chromadb import Settings\n",
    "from typing import List, Dict\n",
    "from IPython.display import clear_output\n",
    "from langchain_text_splitters import RecursiveCharacterTextSplitter"
   ]
  },
  {
   "cell_type": "code",
   "execution_count": 40,
   "id": "4c2ade95-e7a9-47a1-8d66-8c8be8b47710",
   "metadata": {},
   "outputs": [],
   "source": [
    "DATA_PATH = \"./raw_database/\""
   ]
  },
  {
   "cell_type": "code",
   "execution_count": 41,
   "id": "41658855-f009-43e0-a714-6b1c11eea575",
   "metadata": {},
   "outputs": [],
   "source": [
    "chroma_client = chromadb.PersistentClient(\n",
    "    path=\"./persistent_db\",\n",
    "    settings= chromadb.config.Settings(allow_reset=True)\n",
    ")"
   ]
  },
  {
   "cell_type": "code",
   "execution_count": 45,
   "id": "53efa651-cb22-4846-93ce-fca3a85af4e5",
   "metadata": {},
   "outputs": [],
   "source": [
    "collection = chroma_client.get_or_create_collection(\n",
    "    name=\"cv_doc\",\n",
    "    metadata= {\"hnsw:space\" :\"cosine\"}\n",
    ")"
   ]
  },
  {
   "cell_type": "code",
   "execution_count": 46,
   "id": "bf5a5e58-b515-466b-b3c9-cd659ca6c478",
   "metadata": {},
   "outputs": [
    {
     "name": "stdout",
     "output_type": "stream",
     "text": [
      "Collection(name=cv_doc)\n"
     ]
    }
   ],
   "source": [
    "print(collection)"
   ]
  },
  {
   "cell_type": "code",
   "execution_count": 44,
   "id": "bb21957a-2dd0-45bc-b87f-2374f2e5f063",
   "metadata": {},
   "outputs": [],
   "source": [
    "results = collection.query(\n",
    "    query_texts=[\"Que proyectos ha desarrollado Martin?\"],\n",
    "    n_results=6,\n",
    "    include = [\"documents\"]\n",
    ")"
   ]
  },
  {
   "cell_type": "code",
   "execution_count": 19,
   "id": "85779baa-a8c0-4357-9ddd-c00202010728",
   "metadata": {},
   "outputs": [
    {
     "name": "stdout",
     "output_type": "stream",
     "text": [
      "{'ids': [['id1', 'id6', 'id3', 'id2', 'id5', 'id4']], 'embeddings': None, 'documents': [['Encantado, mi nombre es Martín y soy un desarrollador de Software con 2 años de experiencia en el sector de la tecnología', 'En el 2024 he compleado y conseguido mis titulos en Desarrollo aplicaciones multiplataforma', 'Mi último puesto de trabajo ha sido en el CESGA (Centro de supercomputación de Galicia, en el que he creado un chatbot)', 'Proyecto sobre el teorema del mono infinito que habla que un mono con tiempo infinito en algun momento escribirá shakespeare', 'Tengo estudios de desarrollador de aplicaciones multiplataforma, desarrollo y diseño web, gestión de ventas y marketing', 'Mis últimos proyectos han sido: desarrollo de un chatbot empleando inteligencia artificial, un proyecto sobre el teorema del mono infinito, una aplicación de ciudadanía móvil']], 'uris': None, 'data': None, 'metadatas': None, 'distances': None, 'included': [<IncludeEnum.documents: 'documents'>]}\n"
     ]
    }
   ],
   "source": [
    "print(results)"
   ]
  },
  {
   "cell_type": "code",
   "execution_count": 53,
   "id": "1c002b83-3be9-4579-b051-4999dd9337dd",
   "metadata": {},
   "outputs": [],
   "source": [
    "def parse_markdown_text(document_name: str, document_data: str) -> Dict:\n",
    "    # Extract the data from the differents sections of the document\n",
    "    title_match = re.search(r\"% title:\\s*(.*)\", document_data)\n",
    "    document_match = re.search(r\"% document: \\s*(.*)\", document_data)\n",
    "    document_match = re.search(r\"% document: \\s*(.*)\", document_data)\n",
    "    url_source_match = re.search(r\"% url_source:\\s*(.*)\", document_data)\n",
    "    web_source_match = re.search(r\"% web_source:\\s*(.*)\", document_data)\n",
    "    date_publication_match = re.search(r\"% date_publication:\\s*(.*)\", document_data)\n",
    "    content_match = re.search(r\"% content:\\s*(.*)\", document_data, re.DOTALL)\n",
    "    \n",
    "    #Converts the text into a json object\n",
    "    parsed_document = {\n",
    "        \"title\" : title_match.group(1).strip() if title_match else \"Unknow title document\",\n",
    "        \"document\" : document_match.group(1).strip() if document_match else \"No document data\",\n",
    "        \"document_name\" : document_name,\n",
    "        \"url_source\" : url_source_match.group(1).strip() if url_source_match else \"https://github.com/Martingago\",\n",
    "        \"web_source\" :  web_source_match.group(1).strip() if web_source_match else \"https://martingago.dev/\",\n",
    "        \"date_publication\" : date_publication_match.group(1).strip() if date_publication_match else \"No date\",\n",
    "        \"content\": content_match.group(1).strip() if content_match else \"\"\n",
    "    }\n",
    "    return parsed_document"
   ]
  },
  {
   "cell_type": "markdown",
   "id": "1156aa79-10b3-4531-823f-17855dc9cfb9",
   "metadata": {},
   "source": [
    "### Splits the document into small chunks"
   ]
  },
  {
   "cell_type": "code",
   "execution_count": 54,
   "id": "41b17a44-f944-441b-ace2-63792574e6d9",
   "metadata": {},
   "outputs": [],
   "source": [
    "def split_text_from_string(document: str) -> List[str]:\n",
    "    text_splitter = RecursiveCharacterTextSplitter(\n",
    "    chunk_size = 300,\n",
    "    chunk_overlap = 10,\n",
    "    length_function=len,\n",
    "    is_separator_regex=False\n",
    "    )\n",
    "    splitted_text = text_splitter.split_text(document)\n",
    "    return splitted_text"
   ]
  },
  {
   "cell_type": "code",
   "execution_count": 22,
   "id": "fa76e1da-69f8-470a-becd-f4c40b221fe9",
   "metadata": {},
   "outputs": [],
   "source": [
    "def create_chunks_from_string(file_path: str) -> List[Dict] :\n",
    "    #Reads the doc\n",
    "    with open(file_path ,'r', encoding='utf-8') as f:\n",
    "        document_data = f.read()\n",
    "        document_name = os.path.splitext(os.path.basename(file_path))[0]\n",
    "    \n",
    "    parsed_doc = parse_markdown_text(document_name, document_data)\n",
    "    content_chunks = split_text_from_string(parsed_doc[\"content\"])\n",
    "\n",
    "    chunk_with_metadata = []\n",
    "\n",
    "    for chunk in content_chunks:\n",
    "        hash_object = hashlib.sha256(chunk.encode('utf-8')) #generates a hash in base of content to avoid duplicates\n",
    "        chunk_id = hash_object.hexdigest()\n",
    "        \n",
    "        chunk_metadata = {\n",
    "            \"document\" :  parsed_doc[\"document\"],\n",
    "            \"document_name\" : parsed_doc[\"document_name\"],\n",
    "            \"title\" : parsed_doc[\"title\"],\n",
    "            \"url_source\" : parsed_doc[\"url_source\"],\n",
    "            \"web_source\" :  parsed_doc[\"web_source\"],\n",
    "            \"date_publication\" : parsed_doc[\"date_publication\"]\n",
    "        }\n",
    "        chunk_data = {\n",
    "            \"id\": \"ID\"+chunk_id,\n",
    "            \"document\": chunk,\n",
    "            \"metadata\": chunk_metadata\n",
    "        }\n",
    "        chunk_with_metadata.append(chunk_data)\n",
    "    return chunk_with_metadata"
   ]
  },
  {
   "cell_type": "code",
   "execution_count": 55,
   "id": "61aa03ef-3790-40f2-8004-9c0112909be0",
   "metadata": {},
   "outputs": [],
   "source": [
    "def upload_chunks_to_collection(document_chunks, collection):\n",
    "    \n",
    "    for chunk in document_chunks:\n",
    "        # Validates if a documents exists on the database or not\n",
    "        item = collection.get(ids=[chunk[\"id\"]])\n",
    "        if not len(item[\"ids\"]) :\n",
    "            collection.add(\n",
    "                ids =[chunk[\"id\"]],\n",
    "                documents = [chunk[\"document\"]],\n",
    "                metadatas = [chunk[\"metadata\"]]\n",
    "            )\n",
    "            print(f\"    >Chunk: {chunk['id']} successfully added\")\n",
    "        else : \n",
    "            print(\"Duplicate entry, skipping\")"
   ]
  },
  {
   "cell_type": "markdown",
   "id": "3fadd2c1-1461-4bca-8aa6-03080ef09cc7",
   "metadata": {},
   "source": [
    "### Inserts a single file into the database"
   ]
  },
  {
   "cell_type": "code",
   "execution_count": 56,
   "id": "4f75b106-2a1c-4922-8fe5-970fec3b4dff",
   "metadata": {},
   "outputs": [],
   "source": [
    "def insert_file_to_database(file_path: str) :\n",
    "    print(\"executing\")\n",
    "    document_chunks = create_chunks_from_string(file_path) # Generates an array of chunks from a file path\n",
    "    upload_chunks_to_collection(document_chunks, collection) # upload the chunks to the  specified collection"
   ]
  },
  {
   "cell_type": "markdown",
   "id": "db17ad47-76a6-42f4-a575-366b3ab87633",
   "metadata": {},
   "source": [
    "## Insert all files from a dir into the selected collection"
   ]
  },
  {
   "cell_type": "code",
   "execution_count": 57,
   "id": "b03e9c34-72b9-4519-80fb-f95685a49a25",
   "metadata": {},
   "outputs": [],
   "source": [
    "def handle_folders_upload(input_directory : str, collection) :\n",
    "    for root, dirs, files in os.walk(input_directory):\n",
    "        dirs[:] = [d for d in dirs if not d.startswith('.')]\n",
    "        for file in files:\n",
    "            if file.endswith('.md') and not file.startswith('.'):\n",
    "                file_path = os.path.join(root, file)\n",
    "                time_start = datetime.now()\n",
    "                insert_file_to_database(file_path) # handle the document path and insert data into database\n",
    "                time_end = datetime.now()\n",
    "                execution_time = (time_end - time_start).total_seconds() * 1000\n",
    "                #clear_output(wait=True)\n",
    "                print(f\"[{execution_time:.0f}ms]: {file} transformed into chunks and inserted into:{collection.name}\")"
   ]
  },
  {
   "cell_type": "code",
   "execution_count": 58,
   "id": "0bf38cdf-7b88-421c-aaee-e8e0e8d33ba0",
   "metadata": {},
   "outputs": [
    {
     "name": "stdout",
     "output_type": "stream",
     "text": [
      "executing\n",
      "{'title': 'Connect4 - Versión online del clásico juego conecta 4.', 'document': 'Readme proyecto', 'document_name': 'connect4', 'url_source': 'https://github.com/Martingago/connect4', 'web_source': 'https://estrategia4.netlify.app/', 'date_publication': '10-08-2022', 'content': '# Connect4 - Versión Online del Clásico Juego Conecta 4\\n\\n**Connect4** es una versión interactiva y personalizable del clásico juego **Conecta 4**, desarrollada con HTML, CSS, JavaScript y **Bootstrap**. El juego está diseñado para ser fácil de usar, divertido y visualmente atractivo, permitiendo partidas entre dos jugadores.\\n\\n![Connect4 Screenshot](https://github.com/Martingago/connect4/blob/main/img/global/connect4.png)\\n\\n## 🚀 Características Principales\\n\\n- **🎨 Personalización de Avatares**  \\n  Dale un toque único a tu perfil seleccionando avatares personalizados para cada jugador.\\n\\n- **🔍 Partidas Normales y Personalizadas**  \\n  Puedes jugar partidas rápidas o configurar tus propias reglas y estilos de juego.\\n\\n- **🌟 Modo 2 Jugadores**  \\n  Desafía a un amigo o colega en partidas uno contra uno.\\n\\n## 🎮 Tecnologías Utilizadas\\n\\nEste proyecto fue desarrollado usando:\\n\\n- **HTML5** - Estructura del juego.\\n- **CSS3** - Estilizado y diseño responsive.\\n- **JavaScript (Vanilla JS)** - Lógica del juego y funcionalidades interactivas.\\n- **Bootstrap 5** - Diseño moderno y responsive.\\n\\n## 📂 Estructura del Proyecto\\n\\n```plaintext\\nconnect4/\\n├── index.html       # Archivo principal del juego\\n├── style/\\n│   └── styles.css   # Estilos personalizados\\n├── script/\\n│   └── game.js      # Lógica principal del juego\\n└── img/\\n    └── avatar/     # Imágenes de avatares\\n```\\n\\n## 🖥️ Instalación y Ejecución Local\\n\\nSigue estos pasos para ejecutar **Connect4** en tu entorno local:\\n\\n1. Clona el repositorio:\\n   ```bash\\n   git clone https://github.com/Martingago/connect4.git\\n   ```\\n\\n2. Abre el archivo `index.html` en tu navegador.\\n\\n   No se requiere configuración adicional. ¡El juego funciona directamente en el navegador!\\n\\n## 🚀 Prueba la Demo en Línea\\n\\n¡No necesitas instalar nada! Puedes probar la versión en vivo aquí:\\n\\n[**Demo en Línea**](https://estrategia4.netlify.app/)\\n\\n## 🤝 Contribuciones\\n\\nSi deseas contribuir o mejorar el proyecto, no dudes en enviar un *pull request* o abrir un *issue*. ¡Toda ayuda es bienvenida!\\n\\n### Pasos para contribuir:\\n1. Haz un *fork* del repositorio.\\n2. Crea una rama con tu nueva funcionalidad: `git checkout -b nueva-funcionalidad`.\\n3. Realiza tus cambios y confirma los *commits*: `git commit -m \"Agrega nueva funcionalidad\"`.\\n4. Envía tus cambios al repositorio principal: `git push origin nueva-funcionalidad`.\\n5. Abre un *pull request*.\\n\\n## 🙌 Agradecimientos\\n\\nGracias por tomarte el tiempo de explorar **Connect4**. ¡Espero que disfrutes jugando tanto como yo disfruté creándolo!\\n\\n---\\n\\n**Autor**: [Martingago](https://www.linkedin.com/in/martin-gago-choren/)\\n\\n© 2024 Connect4. Todos los derechos reservados.'}\n",
      "    >Chunk: ID4a381ed848dc96085288094300eb92a732e13ade4a874e27f5aad4fb46fc8706 successfully added\n",
      "    >Chunk: IDdef6bfd27c2d9581c55c646be11efaa05f39a6c083da978e87f0077249a40d2c successfully added\n",
      "    >Chunk: ID4ae6d97a4d4a2a545098801f2121f454ceffa9b91525fe008d76f6210a867e08 successfully added\n",
      "    >Chunk: ID8c4055abeeb31769561dec5d11d9ce2e708830805c6939c319ff747a53540529 successfully added\n",
      "    >Chunk: ID07e53344e725b3b72db1933e0e2d6f4b82e610702fa887f6417b7d24313af27f successfully added\n",
      "    >Chunk: ID01097272e962c7f5d8403ecac1d570f9762a98f525e34b5a41c49646a7365c09 successfully added\n",
      "    >Chunk: IDa245c28febc3f95c336b45e204e0fd2285e5e0e25fef3ae56f857f945fc66d7d successfully added\n",
      "    >Chunk: ID9b9a10035aa0ac631089a4a4ada56cf6766bbd190480d91bed5eb0e0128b27cf successfully added\n",
      "    >Chunk: ID761712c1d3ef5571cb582d2e8d866fe7436b0359568c652b7e4fd293a7a4211a successfully added\n",
      "    >Chunk: IDf2b4feb933a48f075674e83012d6c2a3faf736afb49f352c779c80db259cd110 successfully added\n",
      "    >Chunk: ID9ab03b50788ec62bfc0e8d8e050f332ad3c087fc58d25bf80e16c259b3686ad9 successfully added\n",
      "    >Chunk: ID08fd7d5386dd25e89e579a8a27a2ecb3febb7e368f7c2c623ef56a2a634f47fb successfully added\n",
      "[775ms]: connect4.md transformed into chunks and inserted into:cv_doc\n"
     ]
    }
   ],
   "source": [
    "handle_folders_upload(DATA_PATH, collection)"
   ]
  },
  {
   "cell_type": "code",
   "execution_count": null,
   "id": "160f1db9-1eaf-4483-99e0-09384e1bfc33",
   "metadata": {},
   "outputs": [],
   "source": []
  }
 ],
 "metadata": {
  "kernelspec": {
   "display_name": "Python (llm_chatbot)",
   "language": "python",
   "name": "llm_chatbot"
  },
  "language_info": {
   "codemirror_mode": {
    "name": "ipython",
    "version": 3
   },
   "file_extension": ".py",
   "mimetype": "text/x-python",
   "name": "python",
   "nbconvert_exporter": "python",
   "pygments_lexer": "ipython3",
   "version": "3.12.3"
  }
 },
 "nbformat": 4,
 "nbformat_minor": 5
}
