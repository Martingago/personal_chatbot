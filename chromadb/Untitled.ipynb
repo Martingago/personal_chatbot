{
 "cells": [
  {
   "cell_type": "code",
   "execution_count": 3,
   "id": "c2ad6f18-e6ed-4366-8307-7da8e0cdef99",
   "metadata": {},
   "outputs": [
    {
     "ename": "ModuleNotFoundError",
     "evalue": "No module named 'matplotlib'",
     "output_type": "error",
     "traceback": [
      "\u001b[1;31m---------------------------------------------------------------------------\u001b[0m",
      "\u001b[1;31mModuleNotFoundError\u001b[0m                       Traceback (most recent call last)",
      "Cell \u001b[1;32mIn[3], line 1\u001b[0m\n\u001b[1;32m----> 1\u001b[0m \u001b[38;5;28;01mimport\u001b[39;00m \u001b[38;5;21;01mmatplotlib\u001b[39;00m\u001b[38;5;21;01m.\u001b[39;00m\u001b[38;5;21;01mpyplot\u001b[39;00m \u001b[38;5;28;01mas\u001b[39;00m \u001b[38;5;21;01mplt\u001b[39;00m\n\u001b[0;32m      2\u001b[0m \u001b[38;5;28;01mimport\u001b[39;00m \u001b[38;5;21;01mnumpy\u001b[39;00m \u001b[38;5;28;01mas\u001b[39;00m \u001b[38;5;21;01mnp\u001b[39;00m\n",
      "\u001b[1;31mModuleNotFoundError\u001b[0m: No module named 'matplotlib'"
     ]
    }
   ],
   "source": [
    "import chromadb\n",
    "import matplotlib.pyplot as plt\n",
    "import numpy as np"
   ]
  },
  {
   "cell_type": "code",
   "execution_count": null,
   "id": "f90bdfeb-434f-46af-931c-db32038b2646",
   "metadata": {},
   "outputs": [],
   "source": []
  },
  {
   "cell_type": "code",
   "execution_count": 4,
   "id": "afc9e254-5aed-445d-96b3-e09d4b5c8d33",
   "metadata": {},
   "outputs": [
    {
     "ename": "NameError",
     "evalue": "name 'list_of_embeddings' is not defined",
     "output_type": "error",
     "traceback": [
      "\u001b[1;31m---------------------------------------------------------------------------\u001b[0m",
      "\u001b[1;31mNameError\u001b[0m                                 Traceback (most recent call last)",
      "Cell \u001b[1;32mIn[4], line 1\u001b[0m\n\u001b[1;32m----> 1\u001b[0m numpy_array \u001b[38;5;241m=\u001b[39m np\u001b[38;5;241m.\u001b[39marray(\u001b[43mlist_of_embeddings\u001b[49m)\n\u001b[0;32m      2\u001b[0m \u001b[38;5;28mprint\u001b[39m(numpy_array\u001b[38;5;241m.\u001b[39mshape)\n\u001b[0;32m      4\u001b[0m \u001b[38;5;66;03m# creates a figure\u001b[39;00m\n",
      "\u001b[1;31mNameError\u001b[0m: name 'list_of_embeddings' is not defined"
     ]
    }
   ],
   "source": [
    "numpy_array = np.array(list_of_embeddings)\n",
    "print(numpy_array.shape)\n",
    "\n",
    "# creates a figure\n",
    "fig, ax = plt.subplots(figsize=(8,6))\n",
    "\n",
    "# Reduce dimensions\n",
    "\n",
    "from sktlearn.decomposition import PCA\n",
    "pca = PCA(n_components = 2)\n",
    "embeddings_pca = pca.fit_transform(numpy_array)\n",
    "\n",
    "for i, embedding in enumerate(embeddings_pca):\n",
    "    ax.scatter(*embedding, c='k')\n",
    "    ax.annotate(f'ids[i]', (embedding[0],embedding[1]), xytext=(-1,-1), textcoords='offset points', ha='right')\n",
    "\n",
    "    ax.set_xlim = (-0.70, 0.70)\n",
    "    ax.set_ylim = (-0.70, 0.70)\n",
    "\n",
    "    plt.title(\"Embeddings of Dimensions\")\n",
    "    ax.set_xlabel('X Axis')\n",
    "    ax.set_ylabel('Y Axis')\n",
    "\n",
    "    #Show the plot\n",
    "    plt.show()"
   ]
  },
  {
   "cell_type": "code",
   "execution_count": null,
   "id": "a92cfc7b-c1fa-49ea-953d-5523b3cffc3a",
   "metadata": {},
   "outputs": [],
   "source": []
  }
 ],
 "metadata": {
  "kernelspec": {
   "display_name": "Python 3 (ipykernel)",
   "language": "python",
   "name": "python3"
  },
  "language_info": {
   "codemirror_mode": {
    "name": "ipython",
    "version": 3
   },
   "file_extension": ".py",
   "mimetype": "text/x-python",
   "name": "python",
   "nbconvert_exporter": "python",
   "pygments_lexer": "ipython3",
   "version": "3.13.1"
  }
 },
 "nbformat": 4,
 "nbformat_minor": 5
}
